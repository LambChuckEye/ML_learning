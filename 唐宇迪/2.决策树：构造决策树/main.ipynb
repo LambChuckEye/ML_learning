{
 "cells": [
  {
   "cell_type": "code",
   "execution_count": null,
   "metadata": {},
   "outputs": [],
   "source": [
    "import matplotlib.pyplot as plt\n",
    "%matplotlib inline\n",
    "import pandas as pd"
   ]
  },
  {
   "cell_type": "markdown",
   "metadata": {},
   "source": [
    "# 1. 获取数据"
   ]
  },
  {
   "cell_type": "code",
   "execution_count": null,
   "metadata": {},
   "outputs": [],
   "source": [
    "from sklearn.datasets._california_housing import fetch_california_housing\n",
    "housing = fetch_california_housing()\n",
    "print(housing.DESCR)"
   ]
  },
  {
   "cell_type": "code",
   "execution_count": 3,
   "metadata": {},
   "outputs": [
    {
     "data": {
      "text/plain": [
       "array([4.526, 3.585, 3.521, ..., 0.923, 0.847, 0.894])"
      ]
     },
     "execution_count": 3,
     "metadata": {},
     "output_type": "execute_result"
    }
   ],
   "source": [
    "housing.target"
   ]
  },
  {
   "cell_type": "code",
   "execution_count": null,
   "metadata": {},
   "outputs": [],
   "source": [
    "house = pd.DataFrame(data=housing.data,columns=housing.feature_names)\n",
    "house.head()"
   ]
  },
  {
   "cell_type": "markdown",
   "metadata": {},
   "source": [
    "# 2. 使用决策树"
   ]
  },
  {
   "cell_type": "code",
   "execution_count": 4,
   "metadata": {},
   "outputs": [
    {
     "data": {
      "text/plain": [
       "DecisionTreeRegressor(max_depth=2)"
      ]
     },
     "execution_count": 4,
     "metadata": {},
     "output_type": "execute_result"
    }
   ],
   "source": [
    "from sklearn import tree\n",
    "# 回归树\n",
    "dtr = tree.DecisionTreeRegressor(max_depth=2)\n",
    "dtr.fit(housing.data[:,[6,7]],housing.target)"
   ]
  },
  {
   "cell_type": "markdown",
   "metadata": {},
   "source": [
    "# 3. 可视化决策树"
   ]
  },
  {
   "cell_type": "code",
   "execution_count": null,
   "metadata": {},
   "outputs": [],
   "source": [
    "dot_data = tree.export_graphviz(\n",
    "    dtr, \n",
    "    out_file=None, \n",
    "    feature_names=housing.feature_names[6:8], \n",
    "    filled=True, \n",
    "    impurity=False, \n",
    "    rounded=True)"
   ]
  },
  {
   "cell_type": "code",
   "execution_count": null,
   "metadata": {},
   "outputs": [],
   "source": [
    "import pydotplus\n",
    "graph = pydotplus.graph_from_dot_data(dot_data)\n",
    "\n",
    "# 展示图像\n",
    "from IPython.display import Image\n",
    "Image(graph.create_png())"
   ]
  },
  {
   "cell_type": "code",
   "execution_count": null,
   "metadata": {},
   "outputs": [],
   "source": [
    "# 存储图像\n",
    "graph.write_png(\"dtr.png\")"
   ]
  },
  {
   "cell_type": "markdown",
   "metadata": {},
   "source": [
    "# 3. Grid Search调参"
   ]
  },
  {
   "cell_type": "code",
   "execution_count": 5,
   "metadata": {},
   "outputs": [
    {
     "data": {
      "text/plain": [
       "0.5779699824126867"
      ]
     },
     "execution_count": 5,
     "metadata": {},
     "output_type": "execute_result"
    }
   ],
   "source": [
    "# 切分训练集测试集\n",
    "from sklearn.model_selection import train_test_split\n",
    "X_train, X_test, y_train, y_test = train_test_split(\n",
    "    housing.data, housing.target, test_size=0.1, random_state=0)\n",
    "    \n",
    "# 回归决策树\n",
    "dtr = tree.DecisionTreeRegressor(random_state=0)\n",
    "dtr.fit(X_train, y_train)\n",
    "dtr.score(X_test, y_test)\n"
   ]
  },
  {
   "cell_type": "code",
   "execution_count": 6,
   "metadata": {},
   "outputs": [
    {
     "data": {
      "text/plain": [
       "0.816253235008409"
      ]
     },
     "execution_count": 6,
     "metadata": {},
     "output_type": "execute_result"
    }
   ],
   "source": [
    "# 随机森林\n",
    "from sklearn.ensemble import RandomForestRegressor\n",
    "rfr = RandomForestRegressor(random_state=0)\n",
    "rfr.fit(X_train, y_train)\n",
    "rfr.score(X_test, y_test)\n"
   ]
  },
  {
   "cell_type": "code",
   "execution_count": 7,
   "metadata": {},
   "outputs": [
    {
     "data": {
      "text/plain": [
       "({'min_samples_split': 3, 'n_estimators': 100},\n",
       " 0.803829272805188,\n",
       " {'mean_fit_time': array([0.67402945, 3.11756001, 6.21531587, 0.60066237, 2.90367374,\n",
       "         5.88041406, 0.55204663, 2.78018999, 5.54557767]),\n",
       "  'std_fit_time': array([0.0473454 , 0.01705672, 0.03974842, 0.01395715, 0.03097749,\n",
       "         0.16549294, 0.01181388, 0.05575615, 0.06099078]),\n",
       "  'mean_score_time': array([0.00860043, 0.03520021, 0.0696003 , 0.006001  , 0.02898455,\n",
       "         0.05540013, 0.00519958, 0.02520037, 0.05298114]),\n",
       "  'std_score_time': array([1.01916033e-03, 1.46849742e-03, 8.00228133e-04, 5.22348936e-07,\n",
       "         1.20037944e-03, 3.32278474e-03, 3.99876181e-04, 2.03945569e-03,\n",
       "         7.97195963e-03]),\n",
       "  'param_min_samples_split': masked_array(data=[3, 3, 3, 6, 6, 6, 9, 9, 9],\n",
       "               mask=[False, False, False, False, False, False, False, False,\n",
       "                     False],\n",
       "         fill_value='?',\n",
       "              dtype=object),\n",
       "  'param_n_estimators': masked_array(data=[10, 50, 100, 10, 50, 100, 10, 50, 100],\n",
       "               mask=[False, False, False, False, False, False, False, False,\n",
       "                     False],\n",
       "         fill_value='?',\n",
       "              dtype=object),\n",
       "  'params': [{'min_samples_split': 3, 'n_estimators': 10},\n",
       "   {'min_samples_split': 3, 'n_estimators': 50},\n",
       "   {'min_samples_split': 3, 'n_estimators': 100},\n",
       "   {'min_samples_split': 6, 'n_estimators': 10},\n",
       "   {'min_samples_split': 6, 'n_estimators': 50},\n",
       "   {'min_samples_split': 6, 'n_estimators': 100},\n",
       "   {'min_samples_split': 9, 'n_estimators': 10},\n",
       "   {'min_samples_split': 9, 'n_estimators': 50},\n",
       "   {'min_samples_split': 9, 'n_estimators': 100}],\n",
       "  'split0_test_score': array([0.76929517, 0.78646361, 0.78781461, 0.77632696, 0.78194003,\n",
       "         0.78519823, 0.76452835, 0.78054835, 0.78643613]),\n",
       "  'split1_test_score': array([0.78509364, 0.80709862, 0.80869457, 0.78819851, 0.80390876,\n",
       "         0.80474796, 0.78477423, 0.80093774, 0.80648764]),\n",
       "  'split2_test_score': array([0.79742637, 0.8125768 , 0.81464475, 0.79575843, 0.81322184,\n",
       "         0.81425181, 0.79591371, 0.81492172, 0.81269837]),\n",
       "  'split3_test_score': array([0.78240043, 0.79957473, 0.80081572, 0.78563797, 0.79969483,\n",
       "         0.80017105, 0.78581258, 0.7978405 , 0.80082597]),\n",
       "  'split4_test_score': array([0.78681955, 0.80521462, 0.80717671, 0.78563762, 0.80702485,\n",
       "         0.80719503, 0.78897534, 0.80209505, 0.80611469]),\n",
       "  'mean_test_score': array([0.78420703, 0.80218567, 0.80382927, 0.7863119 , 0.80115806,\n",
       "         0.80231282, 0.78400084, 0.79926867, 0.80251256]),\n",
       "  'std_test_score': array([0.00903316, 0.00889143, 0.00913676, 0.00621939, 0.0105735 ,\n",
       "         0.00969331, 0.01048542, 0.0110298 , 0.00887495]),\n",
       "  'rank_test_score': array([8, 4, 1, 7, 5, 3, 9, 6, 2])})"
      ]
     },
     "execution_count": 7,
     "metadata": {},
     "output_type": "execute_result"
    }
   ],
   "source": [
    "from sklearn.model_selection import GridSearchCV\n",
    "# 待调参数\n",
    "param = {'min_samples_split': [3, 6, 9], 'n_estimators': [10, 50, 100]}\n",
    "# cv: k折交叉验证折数\n",
    "grid = GridSearchCV(RandomForestRegressor(), param_grid=param, cv=5)\n",
    "grid.fit(X_train, y_train)\n",
    "grid.best_params_, grid.best_score_, grid.cv_results_\n"
   ]
  }
 ],
 "metadata": {
  "kernelspec": {
   "display_name": "Python 3.6.4 ('python364')",
   "language": "python",
   "name": "python3"
  },
  "language_info": {
   "codemirror_mode": {
    "name": "ipython",
    "version": 3
   },
   "file_extension": ".py",
   "mimetype": "text/x-python",
   "name": "python",
   "nbconvert_exporter": "python",
   "pygments_lexer": "ipython3",
   "version": "3.6.4"
  },
  "orig_nbformat": 4,
  "vscode": {
   "interpreter": {
    "hash": "18c95f61da7a2f8dbf5cf360614d76c3fcfc2ff848ed178b1cdb63ed8f9e919c"
   }
  }
 },
 "nbformat": 4,
 "nbformat_minor": 2
}
