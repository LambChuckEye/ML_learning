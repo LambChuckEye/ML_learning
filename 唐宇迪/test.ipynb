{
 "cells": [
  {
   "cell_type": "code",
   "execution_count": 2,
   "metadata": {},
   "outputs": [],
   "source": [
    "import pandas as pd\n",
    "data = pd.read_excel(\"72.xls\")"
   ]
  },
  {
   "cell_type": "code",
   "execution_count": 3,
   "metadata": {},
   "outputs": [
    {
     "data": {
      "text/plain": [
       "Counter({'大数据-1': 18,\n",
       "         '大数据-3': 8,\n",
       "         '大数据-风险任务应对复核岗': 16,\n",
       "         '大数据-指标管理岗（盟市用户）': 16,\n",
       "         '大数据-风险自查岗': 18,\n",
       "         '大数据-风险任务管理岗': 10,\n",
       "         '大数据-指标审批岗（盟市）': 9,\n",
       "         '大数据-2': 23,\n",
       "         '大数据-服务共享应用岗': 3,\n",
       "         '大数据-矿产资源领域管理岗': 8,\n",
       "         '大数据-督查内审岗': 2,\n",
       "         '大数据-征管指标考核岗': 5,\n",
       "         '大数据-系统查询岗(盟市局)': 1,\n",
       "         '大数据-征管质量5C监控评价岗': 1,\n",
       "         '大数据-系统查询岗(区局)': 1,\n",
       "         '大数据-应用服务岗(旗县局)': 4,\n",
       "         '大数据-质量考评岗(旗县局)': 4,\n",
       "         '大数据-应用分析岗(旗县局)': 4,\n",
       "         '大数据-问题处理岗(旗县局)': 7,\n",
       "         '大数据分析岗': 9,\n",
       "         '大数据发票分析岗': 2,\n",
       "         '大数据云平台（稽查）': 3,\n",
       "         '大数据-自定义查询分析': 2,\n",
       "         '大数据-指标管理岗（盟市管理员）': 1,\n",
       "         '大数据-复工复产分析岗': 2,\n",
       "         '大数据-煤炭资源领域整治管理岗': 2,\n",
       "         '大数据-煤炭资源领域整治查询岗': 1,\n",
       "         '大数据-社保费查询岗': 1,\n",
       "         '大数据-社保费-退税统计查询岗': 1,\n",
       "         '大数据-问题处理岗(科所)': 2})"
      ]
     },
     "execution_count": 3,
     "metadata": {},
     "output_type": "execute_result"
    }
   ],
   "source": [
    "import collections\n",
    "cnt = collections.Counter()\n",
    "for i in data.iloc[:,0]:\n",
    "    temp = i.split(\",\")\n",
    "    for j in temp:\n",
    "        cnt[j] += 1\n",
    "cnt"
   ]
  },
  {
   "cell_type": "code",
   "execution_count": 4,
   "metadata": {},
   "outputs": [
    {
     "data": {
      "text/plain": [
       "{'大数据-1',\n",
       " '大数据-2',\n",
       " '大数据-3',\n",
       " '大数据-复工复产分析岗',\n",
       " '大数据-应用分析岗(旗县局)',\n",
       " '大数据-应用服务岗(旗县局)',\n",
       " '大数据-征管指标考核岗',\n",
       " '大数据-征管质量5C监控评价岗',\n",
       " '大数据-指标审批岗（盟市）',\n",
       " '大数据-指标管理岗（盟市用户）',\n",
       " '大数据-指标管理岗（盟市管理员）',\n",
       " '大数据-服务共享应用岗',\n",
       " '大数据-煤炭资源领域整治查询岗',\n",
       " '大数据-煤炭资源领域整治管理岗',\n",
       " '大数据-督查内审岗',\n",
       " '大数据-矿产资源领域管理岗',\n",
       " '大数据-社保费-退税统计查询岗',\n",
       " '大数据-社保费查询岗',\n",
       " '大数据-系统查询岗(区局)',\n",
       " '大数据-系统查询岗(盟市局)',\n",
       " '大数据-自定义查询分析',\n",
       " '大数据-质量考评岗(旗县局)',\n",
       " '大数据-问题处理岗(旗县局)',\n",
       " '大数据-问题处理岗(科所)',\n",
       " '大数据-风险任务应对复核岗',\n",
       " '大数据-风险任务管理岗',\n",
       " '大数据-风险自查岗',\n",
       " '大数据云平台（稽查）',\n",
       " '大数据分析岗',\n",
       " '大数据发票分析岗'}"
      ]
     },
     "execution_count": 4,
     "metadata": {},
     "output_type": "execute_result"
    }
   ],
   "source": [
    "dict = set()\n",
    "for i in data.iloc[:,0]:\n",
    "    temp = i.split(\",\")\n",
    "    for j in temp:\n",
    "        dict.add(j)\n",
    "            \n",
    "\n",
    "        "
   ]
  },
  {
   "cell_type": "markdown",
   "metadata": {},
   "source": [
    "# 四则运算生成"
   ]
  },
  {
   "cell_type": "code",
   "execution_count": 1,
   "metadata": {},
   "outputs": [],
   "source": [
    "import random"
   ]
  },
  {
   "cell_type": "code",
   "execution_count": 8,
   "metadata": {},
   "outputs": [],
   "source": [
    "lst = [\" + \",\" - \",\" x \",\" ÷ \"]"
   ]
  },
  {
   "cell_type": "code",
   "execution_count": 16,
   "metadata": {},
   "outputs": [
    {
     "data": {
      "text/plain": [
       "' + '"
      ]
     },
     "execution_count": 16,
     "metadata": {},
     "output_type": "execute_result"
    }
   ],
   "source": [
    "random.randint(1,99)\n",
    "random.choice(lst)"
   ]
  },
  {
   "cell_type": "code",
   "execution_count": 35,
   "metadata": {},
   "outputs": [],
   "source": [
    "def gen_for():\n",
    "    return f\" {random.randint(1, 9999)}.{random.randint(1, 99)}{random.choice(lst)}{random.randint(1, 9999)}.{random.randint(1, 99)} = \""
   ]
  },
  {
   "cell_type": "code",
   "execution_count": 63,
   "metadata": {},
   "outputs": [
    {
     "name": "stdout",
     "output_type": "stream",
     "text": [
      " 2119.58 + 9866.48 = \n",
      " 8831.85 + 8159.79 = \n",
      " 3701.41 - 2350.30 = \n",
      " 7510.78 + 5727.34 = \n",
      " 1011.57 + 4208.90 = \n",
      " 3600.12 - 3640.7 = \n",
      " 6140.71 x 1602.7 = \n",
      " 9655.45 x 8180.61 = \n",
      " 8209.81 x 1668.30 = \n",
      " 9862.10 x 5459.10 = \n",
      " 5879.85 - 5596.84 = \n",
      " 670.78 x 4496.41 = \n",
      " 5913.89 - 8731.77 = \n",
      " 1176.67 x 8961.91 = \n",
      " 8940.53 + 5496.82 = \n",
      " 47.48 x 4853.95 = \n",
      " 1967.3 ÷ 3866.14 = \n",
      " 9823.58 x 5802.45 = \n",
      " 1341.68 + 8741.37 = \n",
      " 8453.50 ÷ 9236.54 = \n"
     ]
    }
   ],
   "source": [
    "for _ in range(20):\n",
    "    print(gen_for())"
   ]
  }
 ],
 "metadata": {
  "kernelspec": {
   "display_name": "Python 3.6.4 ('python364')",
   "language": "python",
   "name": "python3"
  },
  "language_info": {
   "codemirror_mode": {
    "name": "ipython",
    "version": 3
   },
   "file_extension": ".py",
   "mimetype": "text/x-python",
   "name": "python",
   "nbconvert_exporter": "python",
   "pygments_lexer": "ipython3",
   "version": "3.6.4"
  },
  "orig_nbformat": 4,
  "vscode": {
   "interpreter": {
    "hash": "18c95f61da7a2f8dbf5cf360614d76c3fcfc2ff848ed178b1cdb63ed8f9e919c"
   }
  }
 },
 "nbformat": 4,
 "nbformat_minor": 2
}
