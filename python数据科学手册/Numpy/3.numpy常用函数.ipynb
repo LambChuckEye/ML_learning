{
 "cells": [
  {
   "cell_type": "markdown",
   "metadata": {},
   "source": [
    "# 1. 通用函数\n",
    "\n",
    "与 python 自带计算中循环数组进行计算不同，numpy 使用了向量的形式进行计算，大大加快了计算速度。\n",
    "\n",
    "numpy 从底层便一直调用通用函数进行计算。\n"
   ]
  },
  {
   "cell_type": "code",
   "execution_count": 2,
   "metadata": {},
   "outputs": [],
   "source": [
    "import numpy as np\n"
   ]
  },
  {
   "cell_type": "markdown",
   "metadata": {},
   "source": [
    "# 2. numpy 算数运算符与对应的通用函数\n",
    "\n",
    "| 运算符 | 对应的通用函数  | 描述     |\n",
    "| ------ | --------------- | -------- |\n",
    "| +      | np.add          | 加法运算 |\n",
    "| -      | np.subtract     | 减法运算 |\n",
    "| -      | np.negative     | 负数运算 |\n",
    "| \\*     | np.multiply     | 乘法运算 |\n",
    "| /      | np.divide       | 除法运算 |\n",
    "| //     | np.floor_divide | 整除运算 |\n",
    "| \\*\\*   | np.power        | 指数运算 |\n",
    "| %      | np.mod          | 取余运算 |\n",
    "\n",
    "其他常用运算如下：\n"
   ]
  },
  {
   "cell_type": "code",
   "execution_count": 3,
   "metadata": {},
   "outputs": [
    {
     "data": {
      "text/plain": [
       "(array([2, 1, 0, 1, 2]), array([2, 1, 0, 1, 2]))"
      ]
     },
     "execution_count": 3,
     "metadata": {},
     "output_type": "execute_result"
    }
   ],
   "source": [
    "# 绝对值\n",
    "x = np.array([-2, -1, 0, 1, 2])\n",
    "# 两个函数相同\n",
    "np.absolute(x), np.abs(x)\n"
   ]
  },
  {
   "cell_type": "code",
   "execution_count": 6,
   "metadata": {},
   "outputs": [
    {
     "name": "stdout",
     "output_type": "stream",
     "text": [
      "theta:  [0.         1.57079633 3.14159265]\n",
      "sin(theta):  [0.0000000e+00 1.0000000e+00 1.2246468e-16]\n",
      "cos(theta):  [ 1.000000e+00  6.123234e-17 -1.000000e+00]\n",
      "tan(theta):  [ 0.00000000e+00  1.63312394e+16 -1.22464680e-16]\n",
      "arcsin(x):  [-1.57079633  0.          1.57079633]\n",
      "arccos(x):  [3.14159265 1.57079633 0.        ]\n",
      "arctan(x):  [-0.78539816  0.          0.78539816]\n"
     ]
    }
   ],
   "source": [
    "# 三角函数\n",
    "theta = np.linspace(0, np.pi, 3)\n",
    "print(\"theta: \", theta)\n",
    "print(\"sin(theta): \", np.sin(theta))\n",
    "print(\"cos(theta): \", np.cos(theta))\n",
    "print(\"tan(theta): \", np.tan(theta))\n",
    "x = [-1, 0, 1]\n",
    "print(\"arcsin(x): \", np.arcsin(x))\n",
    "print(\"arccos(x): \", np.arccos(x))\n",
    "print(\"arctan(x): \", np.arctan(x))\n"
   ]
  },
  {
   "cell_type": "code",
   "execution_count": 9,
   "metadata": {},
   "outputs": [
    {
     "name": "stdout",
     "output_type": "stream",
     "text": [
      "x =  [1, 2, 3]\n",
      "e^x =  [ 2.71828183  7.3890561  20.08553692]\n",
      "2^x =  [2. 4. 8.]\n",
      "3^x =  [ 3  9 27]\n",
      "ln(x) =  [0.         0.69314718 1.09861229]\n",
      "log2(x) =  [0.        1.        1.5849625]\n",
      "log10(x) =  [0.         0.30103    0.47712125]\n"
     ]
    }
   ],
   "source": [
    "# 指数和对数\n",
    "x = [1, 2, 3]\n",
    "print(\"x = \", x)\n",
    "# 指数\n",
    "print(\"e^x = \", np.exp(x))\n",
    "print(\"2^x = \", np.exp2(x))\n",
    "print(\"3^x = \", np.power(3, x))\n",
    "# 对数\n",
    "print(\"ln(x) = \", np.log(x))\n",
    "print(\"log2(x) = \", np.log2(x))\n",
    "print(\"log10(x) = \", np.log10(x))\n"
   ]
  },
  {
   "cell_type": "code",
   "execution_count": 10,
   "metadata": {},
   "outputs": [],
   "source": [
    "# 高级通用函数包\n",
    "from scipy import special\n"
   ]
  },
  {
   "cell_type": "markdown",
   "metadata": {},
   "source": [
    "# 3. 高级的通用函数特性\n",
    "\n",
    "### 1. 指定输出\n",
    "\n",
    "可以通过指定 out 参数来指定计算结果的存放位置\n"
   ]
  },
  {
   "cell_type": "code",
   "execution_count": 11,
   "metadata": {},
   "outputs": [
    {
     "data": {
      "text/plain": [
       "array([ 0., 10., 20., 30., 40.])"
      ]
     },
     "execution_count": 11,
     "metadata": {},
     "output_type": "execute_result"
    }
   ],
   "source": [
    "# 指定存放变量\n",
    "x = np.arange(5)\n",
    "y = np.empty(5)\n",
    "np.multiply(x, 10, out=y)\n",
    "y\n"
   ]
  },
  {
   "cell_type": "code",
   "execution_count": 13,
   "metadata": {},
   "outputs": [
    {
     "data": {
      "text/plain": [
       "array([ 1.,  0.,  2.,  0.,  4.,  0.,  8.,  0., 16.,  0.])"
      ]
     },
     "execution_count": 13,
     "metadata": {},
     "output_type": "execute_result"
    }
   ],
   "source": [
    "# 指定存放切片\n",
    "y = np.zeros(10)\n",
    "np.power(2, x, out=y[::2])\n",
    "y\n"
   ]
  },
  {
   "cell_type": "markdown",
   "metadata": {},
   "source": [
    "### 2. 聚合\n",
    "\n",
    "numpy 中提供了许多聚合函数，可以直接通过链式调用来配合其他通用函数进行使用\n"
   ]
  },
  {
   "cell_type": "code",
   "execution_count": 18,
   "metadata": {},
   "outputs": [
    {
     "name": "stdout",
     "output_type": "stream",
     "text": [
      "15\n",
      "120\n"
     ]
    }
   ],
   "source": [
    "# reduce对当前数组进行计算\n",
    "x = np.arange(1, 6)\n",
    "# 计算数组中元素和\n",
    "print(np.add.reduce(x))\n",
    "# 就散数组中元素乘积\n",
    "print(np.multiply.reduce(x))\n"
   ]
  },
  {
   "cell_type": "code",
   "execution_count": 19,
   "metadata": {},
   "outputs": [
    {
     "name": "stdout",
     "output_type": "stream",
     "text": [
      "[ 1  3  6 10 15]\n",
      "[  1   2   6  24 120]\n"
     ]
    }
   ],
   "source": [
    "# accumulate 存储中间结果\n",
    "print(np.add.accumulate(x))\n",
    "print(np.multiply.accumulate(x))\n"
   ]
  },
  {
   "cell_type": "markdown",
   "metadata": {},
   "source": [
    "### 3. 外积\n",
    "\n",
    "可以通过在结尾添加 outer 方法的方式，来获取两个输入数组中所有元素对的计算结果\n"
   ]
  },
  {
   "cell_type": "code",
   "execution_count": 20,
   "metadata": {},
   "outputs": [
    {
     "data": {
      "text/plain": [
       "array([[ 1,  2,  3,  4,  5],\n",
       "       [ 2,  4,  6,  8, 10],\n",
       "       [ 3,  6,  9, 12, 15],\n",
       "       [ 4,  8, 12, 16, 20],\n",
       "       [ 5, 10, 15, 20, 25]])"
      ]
     },
     "execution_count": 20,
     "metadata": {},
     "output_type": "execute_result"
    }
   ],
   "source": [
    "# 打印乘法表\n",
    "np.multiply.outer(x, x)\n"
   ]
  },
  {
   "cell_type": "markdown",
   "metadata": {},
   "source": [
    "# 4. 聚合函数\n"
   ]
  },
  {
   "cell_type": "code",
   "execution_count": null,
   "metadata": {},
   "outputs": [
    {
     "data": {
      "text/plain": [
       "(48.234099239172984, 48.234099239172984)"
      ]
     },
     "metadata": {},
     "output_type": "display_data"
    }
   ],
   "source": [
    "# 使用sum函数实现数组值求和\n",
    "L = np.random.random(100)\n",
    "# 两种调用方式均可\n",
    "np.sum(L), L.sum()"
   ]
  },
  {
   "cell_type": "code",
   "execution_count": null,
   "metadata": {},
   "outputs": [
    {
     "data": {
      "text/plain": [
       "(0.9961327715272777,\n",
       " 0.9961327715272777,\n",
       " 0.008787223367416663,\n",
       " 0.008787223367416663)"
      ]
     },
     "metadata": {},
     "output_type": "display_data"
    }
   ],
   "source": [
    "# 最大值和最小值\n",
    "L.max(), np.max(L), L.min(), np.min(L)"
   ]
  },
  {
   "cell_type": "code",
   "execution_count": null,
   "metadata": {},
   "outputs": [
    {
     "data": {
      "text/plain": [
       "6.273903186483039"
      ]
     },
     "metadata": {},
     "output_type": "display_data"
    }
   ],
   "source": [
    "# 多维度聚合\n",
    "M = np.random.random((3, 4))\n",
    "# 所有元素相加\n",
    "M.sum()\n"
   ]
  },
  {
   "cell_type": "code",
   "execution_count": null,
   "metadata": {},
   "outputs": [
    {
     "data": {
      "text/plain": [
       "(array([0.13345553, 0.41405496, 0.24505196, 0.19362933]),\n",
       " array([0.90304763, 0.96318465, 0.73330971]))"
      ]
     },
     "metadata": {},
     "output_type": "display_data"
    }
   ],
   "source": [
    "# 指定坐标轴计算\n",
    "M.min(axis=0), M.max(axis=1)\n"
   ]
  },
  {
   "cell_type": "markdown",
   "metadata": {},
   "source": [
    "其他常用聚合函数\n",
    "| 函数名称 | NaN 安全版本 | 描述 |\n",
    "| ---- | ---- | ---- |\n",
    "| np.sum | np.nansum | 计算元素的和 |\n",
    "| np.prod | np.nanprod | 计算元素的积 |\n",
    "| np.mean | np.nanmean | 计算元素的平均值 |\n",
    "| np.std | np.nanstd | 计算元素的标准差 |\n",
    "| np.var | np.nanvar | 计算元素的方差 |\n",
    "| np.min | np.nanmin | 找出最小值 |\n",
    "| np.max | np.nanmax | 找出最大值 |\n",
    "| np.argmin | np.nanargmin | 找出最小值的索引 |\n",
    "| np.argmax | np.nanargmax | 找出最大值的索引 |\n",
    "| np.median | np.nanmedian | 计算元素的中位数 |\n",
    "| np.percentile | np.nanpercentile | 计算基于元素排序的统计值 |\n",
    "| np.any | N/A | 验证任何一个元素是否为真 |\n",
    "| np.all | N/A | 验证所有元素是否为真 |\n"
   ]
  },
  {
   "cell_type": "markdown",
   "metadata": {},
   "source": [
    "# 5. 比较、掩码和布尔逻辑\n",
    "\n",
    "### 1. 比较操作\n"
   ]
  },
  {
   "cell_type": "code",
   "execution_count": 5,
   "metadata": {},
   "outputs": [
    {
     "data": {
      "text/plain": [
       "(array([ True,  True, False, False, False]),\n",
       " array([False, False, False,  True,  True]),\n",
       " array([ True,  True,  True, False, False]),\n",
       " array([False, False,  True,  True,  True]),\n",
       " array([ True,  True, False,  True,  True]),\n",
       " array([False, False,  True, False, False]))"
      ]
     },
     "execution_count": 5,
     "metadata": {},
     "output_type": "execute_result"
    }
   ],
   "source": [
    "# 比较操作\n",
    "x = np.array([1, 2, 3, 4, 5])\n",
    "x < 3, x > 3, x <= 3, x >= 3, x != 3, x == 3\n"
   ]
  },
  {
   "cell_type": "markdown",
   "metadata": {},
   "source": [
    "### 2. 布尔值及其运算\n"
   ]
  },
  {
   "cell_type": "code",
   "execution_count": 11,
   "metadata": {},
   "outputs": [
    {
     "name": "stdout",
     "output_type": "stream",
     "text": [
      "[[3 2 0 4]\n",
      " [4 4 1 3]\n",
      " [0 3 2 4]]\n"
     ]
    },
    {
     "data": {
      "text/plain": [
       "(5, 5)"
      ]
     },
     "execution_count": 11,
     "metadata": {},
     "output_type": "execute_result"
    }
   ],
   "source": [
    "# 由于False存储为0，True存储为1，所以我们有以下几个方式来统计True的个数\n",
    "x = np.random.randint(0, 5, (3, 4))\n",
    "print(x)\n",
    "np.count_nonzero(x < 3), np.sum(x < 3)\n"
   ]
  },
  {
   "cell_type": "code",
   "execution_count": 13,
   "metadata": {},
   "outputs": [
    {
     "data": {
      "text/plain": [
       "(array([2, 1, 2]), array([1, 1, 3, 0]))"
      ]
     },
     "execution_count": 13,
     "metadata": {},
     "output_type": "execute_result"
    }
   ],
   "source": [
    "# 可以指定坐标轴进行计算\n",
    "np.sum(x < 3, axis=1), np.sum(x < 3, axis=0)\n"
   ]
  },
  {
   "cell_type": "code",
   "execution_count": 16,
   "metadata": {},
   "outputs": [
    {
     "name": "stdout",
     "output_type": "stream",
     "text": [
      "False\n",
      "True\n",
      "True\n",
      "False\n"
     ]
    }
   ],
   "source": [
    "# 可以使用any()和all()快速检查\n",
    "# 有没有超过4的\n",
    "print(np.any(x > 4))\n",
    "# 有没有小于1的\n",
    "print(np.any(x < 1))\n",
    "# 是否所有值都小于5\n",
    "print(np.all(x < 5))\n",
    "# 是否所有值都等于3\n",
    "print(np.all(x == 3))\n"
   ]
  },
  {
   "cell_type": "markdown",
   "metadata": {},
   "source": [
    "### 3. 逻辑运算\n",
    "\n",
    "& 与 ， | 或 ， ^ 异或 ， ~ 非\n"
   ]
  },
  {
   "cell_type": "code",
   "execution_count": 17,
   "metadata": {},
   "outputs": [
    {
     "data": {
      "text/plain": [
       "5"
      ]
     },
     "execution_count": 17,
     "metadata": {},
     "output_type": "execute_result"
    }
   ],
   "source": [
    "# 筛选大于1小于4的元素\n",
    "np.sum((x > 1) & (x < 4))\n"
   ]
  },
  {
   "cell_type": "markdown",
   "metadata": {},
   "source": [
    "### 4. 将布尔数组作为掩码\n"
   ]
  },
  {
   "cell_type": "code",
   "execution_count": 18,
   "metadata": {},
   "outputs": [
    {
     "data": {
      "text/plain": [
       "array([2, 0, 1, 0, 2])"
      ]
     },
     "execution_count": 18,
     "metadata": {},
     "output_type": "execute_result"
    }
   ],
   "source": [
    "# 直接选出\n",
    "x[x < 3]\n"
   ]
  }
 ],
 "metadata": {
  "kernelspec": {
   "display_name": "Python 3.9.12 ('python39')",
   "language": "python",
   "name": "python3"
  },
  "language_info": {
   "codemirror_mode": {
    "name": "ipython",
    "version": 3
   },
   "file_extension": ".py",
   "mimetype": "text/x-python",
   "name": "python",
   "nbconvert_exporter": "python",
   "pygments_lexer": "ipython3",
   "version": "3.9.12"
  },
  "orig_nbformat": 4,
  "vscode": {
   "interpreter": {
    "hash": "15dad7ffff77b8905495a216058f4d8dece3c8a608093f07800db57171be12aa"
   }
  }
 },
 "nbformat": 4,
 "nbformat_minor": 2
}
